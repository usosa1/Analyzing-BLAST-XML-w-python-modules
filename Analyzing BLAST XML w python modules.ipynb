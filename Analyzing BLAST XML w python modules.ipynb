{
 "cells": [
  {
   "cell_type": "code",
   "execution_count": 1,
   "id": "81ae8832",
   "metadata": {},
   "outputs": [
    {
     "name": "stdout",
     "output_type": "stream",
     "text": [
      "BlastOutput\n"
     ]
    }
   ],
   "source": [
    "#the tag/attribute of root node of the file\n",
    "import xml.etree.ElementTree as ET\n",
    "tree = ET.parse('blast_sample.xml')\n",
    "root = tree.getroot()\n",
    "\n",
    "\n",
    "print(root.tag)\n"
   ]
  },
  {
   "cell_type": "code",
   "execution_count": 9,
   "id": "35ebd37f",
   "metadata": {},
   "outputs": [
    {
     "name": "stdout",
     "output_type": "stream",
     "text": [
      "BLOSUM62\n"
     ]
    }
   ],
   "source": [
    "# matrix was used for alignment scoring\n",
    "for each in root.findall('.//Parameters'):\n",
    "         rating = each.find('.//Parameters_matrix')\n",
    "         print(rating.text)\n"
   ]
  },
  {
   "cell_type": "code",
   "execution_count": 12,
   "id": "1a04e566",
   "metadata": {},
   "outputs": [
    {
     "name": "stdout",
     "output_type": "stream",
     "text": [
      "49\n"
     ]
    }
   ],
   "source": [
    "#number of similar sequences (Hits) as entry sequence in database\n",
    "for each in root.findall('.//Hit'):\n",
    "    similar_sequences = each.find('.//Hit_num')\n",
    "\n",
    "print(similar_sequences.text)"
   ]
  },
  {
   "cell_type": "code",
   "execution_count": 13,
   "id": "dd62a519",
   "metadata": {},
   "outputs": [
    {
     "name": "stdout",
     "output_type": "stream",
     "text": [
      "0\n",
      "0\n",
      "0.000202995\n",
      "0.000524953\n",
      "0.00289628\n",
      "0.00335949\n",
      "0.00744792\n",
      "0.00959789\n"
     ]
    }
   ],
   "source": [
    "#number of similar sequences (Hits) with less than 0.01 \n",
    "for each in root.findall('.//Hsp'):\n",
    "    value = each.find('.//Hsp_evalue')\n",
    "    if value.text < '0.01':\n",
    "       print(value.text)\n",
    "    "
   ]
  },
  {
   "cell_type": "code",
   "execution_count": 14,
   "id": "514eb0e4",
   "metadata": {},
   "outputs": [
    {
     "name": "stdout",
     "output_type": "stream",
     "text": [
      "[[ 2  4  6]\n",
      " [ 8 10 12]\n",
      " [14 16 18]]\n",
      "[[ 2  8 14]\n",
      " [ 4 10 16]\n",
      " [ 6 12 18]]\n",
      "Eigenvalues of Matrix is :  [ 3.22336879e+01 -2.23368794e+00 -1.95183697e-15]\n",
      "Eigenvector of Matrix is :  [[-0.23197069 -0.78583024  0.40824829]\n",
      " [-0.52532209 -0.08675134 -0.81649658]\n",
      " [-0.8186735   0.61232756  0.40824829]]\n",
      "Eigenvalues of Matrix is :  [ 3.22336879e+01 -2.23368794e+00 -3.15346855e-16]\n",
      "Eigenvector of Matrix is :  [[-0.46454727 -0.88290596  0.40824829]\n",
      " [-0.57079553 -0.23952042 -0.81649658]\n",
      " [-0.67704379  0.40386512  0.40824829]]\n",
      "Eigenvector of Matrix is :  [[-0.46454727 -0.88290596  0.40824829]\n",
      " [-0.57079553 -0.23952042 -0.81649658]\n",
      " [-0.67704379  0.40386512  0.40824829]]\n"
     ]
    }
   ],
   "source": [
    "\n",
    "#calculate the eigen values and eigen vectors of the matrix. \n",
    "import numpy as np\n",
    "Matrix = np.matrix('2 4 6; 8 10 12; 14 16 18')\n",
    "print(Matrix)\n",
    "\n",
    "tMatrix = Matrix.transpose()\n",
    "print(tMatrix)\n",
    "from numpy import linalg as L\n",
    "a, b = np.linalg.eig(Matrix)\n",
    "print(\"Eigenvalues of Matrix is : \", a)\n",
    "print(\"Eigenvector of Matrix is : \", b)\n",
    "from numpy import linalg as L\n",
    "c, d = np.linalg.eig(tMatrix)\n",
    "print(\"Eigenvalues of Matrix is : \", c)\n",
    "print(\"Eigenvector of Matrix is : \", d)\n",
    "print(\"Eigenvector of Matrix is : \", d)"
   ]
  },
  {
   "cell_type": "code",
   "execution_count": 15,
   "id": "acc962c1",
   "metadata": {},
   "outputs": [
    {
     "name": "stdout",
     "output_type": "stream",
     "text": [
      "[[6.87790285 0.         0.         0.         0.         0.        ]\n",
      " [0.         4.58668357 0.         0.         0.         0.        ]\n",
      " [0.         0.         4.13612518 0.         0.         0.        ]\n",
      " [0.         0.         0.         3.31424993 0.         0.        ]\n",
      " [0.         0.         0.         0.         1.72742233 0.        ]\n",
      " [0.         0.         0.         0.         0.         0.82370929]]\n"
     ]
    }
   ],
   "source": [
    "#calculate the singular value decomposition (SVD)\n",
    "a = np.random.randn(9, 6) + 1j*np.random.randn(9, 6)\n",
    "myU, mys, myV = np.linalg.svd(a, full_matrices=True)\n",
    "myU.shape, myV.shape, mys.shape\n",
    "((9, 9), (6, 6), (6,))\n",
    "theS = np.zeros((9, 6), dtype=complex)\n",
    "theS[:6, :6] = np.diag(mys)\n",
    "print(np.diag(mys))\n"
   ]
  },
  {
   "cell_type": "code",
   "execution_count": null,
   "id": "848f8e31",
   "metadata": {},
   "outputs": [],
   "source": []
  }
 ],
 "metadata": {
  "kernelspec": {
   "display_name": "Python 3 (ipykernel)",
   "language": "python",
   "name": "python3"
  },
  "language_info": {
   "codemirror_mode": {
    "name": "ipython",
    "version": 3
   },
   "file_extension": ".py",
   "mimetype": "text/x-python",
   "name": "python",
   "nbconvert_exporter": "python",
   "pygments_lexer": "ipython3",
   "version": "3.7.3"
  }
 },
 "nbformat": 4,
 "nbformat_minor": 5
}
